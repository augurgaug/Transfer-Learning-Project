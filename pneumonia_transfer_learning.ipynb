{
  "cells": [
    {
      "cell_type": "code",
      "execution_count": 1,
      "metadata": {
        "colab": {
          "base_uri": "https://localhost:8080/"
        },
        "id": "vVhgFAlXwnh7",
        "outputId": "8721068f-08f3-4ce8-c844-a3cab43dbb13"
      },
      "outputs": [
        {
          "output_type": "stream",
          "name": "stdout",
          "text": [
            "Mounted at /gdrive\n"
          ]
        }
      ],
      "source": [
        "from google.colab import drive\n",
        "drive.mount('/gdrive')"
      ]
    },
    {
      "cell_type": "markdown",
      "source": [
        "# VERİYİ MODELE HAZIRLAMA VE GEREKLİ KÜTÜPHANELERİN YÜKLENMESİ"
      ],
      "metadata": {
        "id": "i4pjCWP0c6oh"
      }
    },
    {
      "cell_type": "code",
      "execution_count": 2,
      "metadata": {
        "id": "_9dCk5BNwsvu"
      },
      "outputs": [],
      "source": [
        "\n",
        "import numpy as np # linear algebra\n",
        "import pandas as pd # data processing, CSV file I/O (e.g. pd.read_csv)\n",
        "import matplotlib.pyplot as plt\n",
        "import seaborn as sns\n",
        "import glob\n",
        "import cv2\n",
        "import os"
      ]
    },
    {
      "cell_type": "code",
      "execution_count": 3,
      "metadata": {
        "id": "AwrtU4bJxTPZ"
      },
      "outputs": [],
      "source": [
        "data='/gdrive/My Drive/Pneumonia/X-Ray/'\n"
      ]
    },
    {
      "cell_type": "code",
      "execution_count": 4,
      "metadata": {
        "colab": {
          "base_uri": "https://localhost:8080/"
        },
        "id": "CL9wzrv9yEqK",
        "outputId": "e8f3f7bd-3c2d-4b4b-f5bc-8771a609b064"
      },
      "outputs": [
        {
          "output_type": "execute_result",
          "data": {
            "text/plain": [
              "['Viral', 'Bacterial']"
            ]
          },
          "metadata": {},
          "execution_count": 4
        }
      ],
      "source": [
        "os.listdir(data)"
      ]
    },
    {
      "cell_type": "code",
      "execution_count": 5,
      "metadata": {
        "id": "tk8SRaivyZxb"
      },
      "outputs": [],
      "source": [
        "CATEGORIES = ['Viral', 'Bacterial']\n",
        "IMG_SIZE = 100"
      ]
    },
    {
      "cell_type": "code",
      "execution_count": 6,
      "metadata": {
        "id": "jxubojkYzh8s"
      },
      "outputs": [],
      "source": [
        "X = []\n",
        "y = []\n",
        "\n",
        "\n",
        "def load_data():\n",
        "    for category in CATEGORIES:\n",
        "        path = os.path.join(data, category)\n",
        "        class_num = CATEGORIES.index(category)\n",
        "\n",
        "        for img in os.listdir(path):\n",
        "            try:\n",
        "                img_array = cv2.imread(os.path.join(path, img))\n",
        "                new_array = cv2.resize(img_array, (IMG_SIZE, IMG_SIZE))\n",
        "                X.append(new_array)\n",
        "                y.append(class_num)\n",
        "            except Exception as e:\n",
        "                pass\n",
        "\n",
        "load_data()"
      ]
    },
    {
      "cell_type": "code",
      "execution_count": 7,
      "metadata": {
        "id": "var_uuHW2u_J"
      },
      "outputs": [],
      "source": [
        "X = np.array(X)\n",
        "y = np.array(y)"
      ]
    },
    {
      "cell_type": "markdown",
      "source": [
        "1. ELEMENTE GÖRE TRAIN TEST VALIDATION DEĞELERİNİ AYIRDIM."
      ],
      "metadata": {
        "id": "hz4eVGOzcoiR"
      }
    },
    {
      "cell_type": "code",
      "execution_count": 8,
      "metadata": {
        "id": "cBoCnC3HVUX9"
      },
      "outputs": [],
      "source": [
        "from sklearn.model_selection import train_test_split\n",
        "\n",
        "x_train, x_test, y_train, y_test = train_test_split(X, y, test_size=0.20, random_state =42)\n",
        "\n",
        "x_train, x_val, y_train, y_val = train_test_split(x_train, y_train, test_size=0.10, random_state=42)"
      ]
    },
    {
      "cell_type": "markdown",
      "source": [
        "3. ELEMENTE GÖRE TRAIN TEST VALIDATION DEĞELERİNİ AYIRDIM.\n",
        "\n",
        " AŞAĞIDAKİ İŞLEMLERİ HANGİSİNDE YAPMAK İSTİYORSANIZ ONU ÇALIŞTIRIN."
      ],
      "metadata": {
        "id": "vcHTfzUjcUUx"
      }
    },
    {
      "cell_type": "code",
      "source": [
        "from sklearn.model_selection import train_test_split\n",
        "\n",
        "x_train, x_test, y_train, y_test = train_test_split(X, y, test_size=0.30, random_state =42)\n",
        "\n",
        "x_train, x_val, y_train, y_val = train_test_split(x_train, y_train, test_size=0.10, random_state=42)"
      ],
      "metadata": {
        "id": "GmbJP8klaX7M"
      },
      "execution_count": 9,
      "outputs": []
    },
    {
      "cell_type": "code",
      "execution_count": 10,
      "metadata": {
        "id": "AMm3PDg1WnB4"
      },
      "outputs": [],
      "source": [
        "\n",
        "x_train = np.array(x_train)\n",
        "x_test = np.array(x_test)\n",
        "\n",
        "y_train = np.array(y_train)\n",
        "y_test = np.array(y_test)\n",
        "\n",
        "x_val = np.array(x_val)\n",
        "y_val = np.array(y_val)\n"
      ]
    },
    {
      "cell_type": "code",
      "execution_count": 11,
      "metadata": {
        "colab": {
          "base_uri": "https://localhost:8080/"
        },
        "id": "2EUjbFknWrx3",
        "outputId": "2c5fa162-6534-4b14-d10b-deecd8066f7f"
      },
      "outputs": [
        {
          "output_type": "stream",
          "name": "stdout",
          "text": [
            "x_train shape:  (72, 100, 100, 3)\n",
            "x_test shape:  (36, 100, 100, 3)\n",
            "x_val shape:  (9, 100, 100, 3)\n",
            "\n",
            "y_train shape:  (72,)\n",
            "y_test shape:  (36,)\n",
            "y_val shape:  (9,)\n"
          ]
        }
      ],
      "source": [
        "print(\"x_train shape: \", x_train.shape)\n",
        "print(\"x_test shape: \", x_test.shape)\n",
        "print(\"x_val shape: \", x_val.shape)\n",
        "print(\"\\ny_train shape: \", y_train.shape)\n",
        "print(\"y_test shape: \", y_test.shape)\n",
        "print(\"y_val shape: \", y_val.shape)"
      ]
    },
    {
      "cell_type": "markdown",
      "source": [],
      "metadata": {
        "id": "I9EHU59Yb92E"
      }
    },
    {
      "cell_type": "code",
      "execution_count": 12,
      "metadata": {
        "id": "BnZ_Aol_XBV6"
      },
      "outputs": [],
      "source": [
        "import tensorflow as tf\n",
        "\n",
        "train_yCl = tf.keras.utils.to_categorical(y_train, num_classes=2)\n",
        "test_yCl = tf.keras.utils.to_categorical(y_test, num_classes=2)\n",
        "valid_yCl = tf.keras.utils.to_categorical(y_val, num_classes=2)"
      ]
    },
    {
      "cell_type": "markdown",
      "source": [
        "# CNN MODELİ"
      ],
      "metadata": {
        "id": "8HrCSLBib-ef"
      }
    },
    {
      "cell_type": "code",
      "execution_count": 13,
      "metadata": {
        "colab": {
          "base_uri": "https://localhost:8080/"
        },
        "id": "cB9WCm2WXF1D",
        "outputId": "1a0362cb-4c7c-46fd-ce07-1854cece2ecf"
      },
      "outputs": [
        {
          "output_type": "stream",
          "name": "stdout",
          "text": [
            "Model: \"sequential\"\n",
            "_________________________________________________________________\n",
            " Layer (type)                Output Shape              Param #   \n",
            "=================================================================\n",
            " conv2d (Conv2D)             (None, 100, 100, 64)      1792      \n",
            "                                                                 \n",
            " activation (Activation)     (None, 100, 100, 64)      0         \n",
            "                                                                 \n",
            " conv2d_1 (Conv2D)           (None, 100, 100, 64)      36928     \n",
            "                                                                 \n",
            " activation_1 (Activation)   (None, 100, 100, 64)      0         \n",
            "                                                                 \n",
            " max_pooling2d (MaxPooling2  (None, 50, 50, 64)        0         \n",
            " D)                                                              \n",
            "                                                                 \n",
            " batch_normalization (Batch  (None, 50, 50, 64)        256       \n",
            " Normalization)                                                  \n",
            "                                                                 \n",
            " dropout (Dropout)           (None, 50, 50, 64)        0         \n",
            "                                                                 \n",
            " conv2d_2 (Conv2D)           (None, 50, 50, 64)        36928     \n",
            "                                                                 \n",
            " activation_2 (Activation)   (None, 50, 50, 64)        0         \n",
            "                                                                 \n",
            " conv2d_3 (Conv2D)           (None, 50, 50, 64)        36928     \n",
            "                                                                 \n",
            " activation_3 (Activation)   (None, 50, 50, 64)        0         \n",
            "                                                                 \n",
            " max_pooling2d_1 (MaxPoolin  (None, 25, 25, 64)        0         \n",
            " g2D)                                                            \n",
            "                                                                 \n",
            " batch_normalization_1 (Bat  (None, 25, 25, 64)        256       \n",
            " chNormalization)                                                \n",
            "                                                                 \n",
            " dropout_1 (Dropout)         (None, 25, 25, 64)        0         \n",
            "                                                                 \n",
            " conv2d_4 (Conv2D)           (None, 25, 25, 128)       73856     \n",
            "                                                                 \n",
            " activation_4 (Activation)   (None, 25, 25, 128)       0         \n",
            "                                                                 \n",
            " conv2d_5 (Conv2D)           (None, 25, 25, 128)       147584    \n",
            "                                                                 \n",
            " activation_5 (Activation)   (None, 25, 25, 128)       0         \n",
            "                                                                 \n",
            " max_pooling2d_2 (MaxPoolin  (None, 12, 12, 128)       0         \n",
            " g2D)                                                            \n",
            "                                                                 \n",
            " batch_normalization_2 (Bat  (None, 12, 12, 128)       512       \n",
            " chNormalization)                                                \n",
            "                                                                 \n",
            " dropout_2 (Dropout)         (None, 12, 12, 128)       0         \n",
            "                                                                 \n",
            " flatten (Flatten)           (None, 18432)             0         \n",
            "                                                                 \n",
            " dense (Dense)               (None, 1024)              18875392  \n",
            "                                                                 \n",
            " activation_6 (Activation)   (None, 1024)              0         \n",
            "                                                                 \n",
            " dropout_3 (Dropout)         (None, 1024)              0         \n",
            "                                                                 \n",
            " dense_1 (Dense)             (None, 1024)              1049600   \n",
            "                                                                 \n",
            " activation_7 (Activation)   (None, 1024)              0         \n",
            "                                                                 \n",
            " dense_2 (Dense)             (None, 2)                 2050      \n",
            "                                                                 \n",
            " activation_8 (Activation)   (None, 2)                 0         \n",
            "                                                                 \n",
            "=================================================================\n",
            "Total params: 20262082 (77.29 MB)\n",
            "Trainable params: 20261570 (77.29 MB)\n",
            "Non-trainable params: 512 (2.00 KB)\n",
            "_________________________________________________________________\n"
          ]
        }
      ],
      "source": [
        "from keras.layers import Input, Dense, Activation, BatchNormalization, Flatten, Conv2D, MaxPooling2D, Dropout\n",
        "from keras.models import Sequential\n",
        "\n",
        "model = Sequential()\n",
        "\n",
        "model.add(Conv2D(64, (3,3), padding='same', input_shape=(IMG_SIZE, IMG_SIZE, 3)))\n",
        "model.add(Activation('relu'))\n",
        "model.add(Conv2D(64, (3,3), padding='same'))\n",
        "model.add(Activation('relu'))\n",
        "model.add(MaxPooling2D(pool_size=(2,2)))\n",
        "model.add(BatchNormalization())\n",
        "model.add(Dropout(0.1))\n",
        "\n",
        "model.add(Conv2D(64, (3,3), padding='same'))\n",
        "model.add(Activation('relu'))\n",
        "model.add(Conv2D(64, (3,3), padding='same'))\n",
        "model.add(Activation('relu'))\n",
        "model.add(MaxPooling2D(pool_size=(2,2)))\n",
        "model.add(BatchNormalization())\n",
        "model.add(Dropout(0.1))\n",
        "\n",
        "model.add(Conv2D(128, (3,3), padding='same'))\n",
        "model.add(Activation('relu'))\n",
        "model.add(Conv2D(128, (3,3), padding='same'))\n",
        "model.add(Activation('relu'))\n",
        "model.add(MaxPooling2D(pool_size=(2,2)))\n",
        "model.add(BatchNormalization())\n",
        "model.add(Dropout(0.1))\n",
        "\n",
        "model.add(Flatten())\n",
        "model.add(Dense(1024))\n",
        "model.add(Activation('relu'))\n",
        "model.add(Dropout(0.4))\n",
        "model.add(Dense(1024))\n",
        "model.add(Activation('relu'))\n",
        "model.add(Dense(2))\n",
        "model.add(Activation('softmax'))\n",
        "\n",
        "model.compile(loss=\"categorical_crossentropy\", optimizer=\"adam\", metrics=['accuracy'])\n",
        "model.summary()"
      ]
    },
    {
      "cell_type": "code",
      "execution_count": 14,
      "metadata": {
        "id": "5vAukKTKXQnm"
      },
      "outputs": [],
      "source": [
        "from tensorflow import keras\n",
        "\n",
        "callback_list = [\n",
        "    keras.callbacks.ModelCheckpoint(\n",
        "        filepath='model.h5',\n",
        "        monitor = 'val_accuracy', save_best_only=True, verbose=3\n",
        "    ),\n",
        "    keras.callbacks.EarlyStopping(monitor='val_loss', patience=10, verbose=3)\n",
        "]"
      ]
    },
    {
      "cell_type": "code",
      "execution_count": 15,
      "metadata": {
        "id": "wlIgodOoXXPX",
        "colab": {
          "base_uri": "https://localhost:8080/"
        },
        "outputId": "76a8899f-4736-4a25-90c0-8dce47010fe1"
      },
      "outputs": [
        {
          "output_type": "stream",
          "name": "stdout",
          "text": [
            "2/2 [==============================] - ETA: 0s - loss: 4.5125 - accuracy: 0.4583 \n",
            "Epoch 1: val_accuracy improved from -inf to 0.33333, saving model to model.h5\n"
          ]
        },
        {
          "output_type": "stream",
          "name": "stderr",
          "text": [
            "/usr/local/lib/python3.10/dist-packages/keras/src/engine/training.py:3103: UserWarning: You are saving your model as an HDF5 file via `model.save()`. This file format is considered legacy. We recommend using instead the native Keras format, e.g. `model.save('my_model.keras')`.\n",
            "  saving_api.save_model(\n"
          ]
        },
        {
          "output_type": "stream",
          "name": "stdout",
          "text": [
            "\b\b\b\b\b\b\b\b\b\b\b\b\b\b\b\b\b\b\b\b\b\b\b\b\b\b\b\b\b\b\b\b\b\b\b\b\b\b\b\b\b\b\b\b\b\b\b\b\b\b\b\b\b\b\b\b\b\b\b\b\b\b\b\b\b\b\b\b\b\b\b\b\b\b\b\b\b\b\b\b\r2/2 [==============================] - 18s 2s/step - loss: 4.5125 - accuracy: 0.4583 - val_loss: 42.6365 - val_accuracy: 0.3333\n",
            "Eğitim süresi:  18.155635118484497 saniye\n"
          ]
        }
      ],
      "source": [
        "import time\n",
        "start = time.time()\n",
        "\n",
        "history = model.fit(x_train, train_yCl,\n",
        "                    batch_size=64,\n",
        "                    validation_data = (x_val, valid_yCl),\n",
        "                    callbacks = callback_list,\n",
        "                    epochs = 1\n",
        "                    #epochs = 50\n",
        "                    )\n",
        "print(\"Eğitim süresi: \", time.time() - start, \"saniye\")"
      ]
    },
    {
      "cell_type": "code",
      "execution_count": 16,
      "metadata": {
        "colab": {
          "base_uri": "https://localhost:8080/"
        },
        "id": "uhQbiU0vZmb2",
        "outputId": "aca02d98-6af7-40fb-dc98-ef9e95750431"
      },
      "outputs": [
        {
          "output_type": "stream",
          "name": "stdout",
          "text": [
            "1/1 [==============================] - 0s 305ms/step - loss: 42.6365 - accuracy: 0.3333\n",
            "Validation Accuracy:  0.3333333432674408\n",
            "2/2 [==============================] - 1s 212ms/step - loss: 34.9510 - accuracy: 0.4444\n",
            "Test Accuracy:  0.4444444477558136\n",
            "3/3 [==============================] - 4s 949ms/step - loss: 32.0440 - accuracy: 0.4861\n",
            "Train Accuracy:  0.4861111044883728\n"
          ]
        }
      ],
      "source": [
        "score_valid = model.evaluate(x_val, valid_yCl)\n",
        "print(\"Validation Accuracy: \", score_valid[1])\n",
        "\n",
        "score_test = model.evaluate(x_test, test_yCl)\n",
        "print(\"Test Accuracy: \", score_test[1])\n",
        "\n",
        "score_train = model.evaluate(x_train, train_yCl)\n",
        "print(\"Train Accuracy: \", score_train[1])"
      ]
    },
    {
      "cell_type": "code",
      "execution_count": 17,
      "metadata": {
        "id": "jiKX-FClfIPy"
      },
      "outputs": [],
      "source": [
        "from sklearn.metrics import confusion_matrix, classification_report"
      ]
    },
    {
      "cell_type": "code",
      "execution_count": 18,
      "metadata": {
        "id": "5SyfwLGEfOPF"
      },
      "outputs": [],
      "source": [
        "import itertools\n",
        "def plot_confusion_matrix(cm, classes, normalize=True, title='Confusion matrix', cmap=plt.cm.Blues):\n",
        "    plt.figure(figsize=(8, 8))\n",
        "    plt.imshow(cm, interpolation='nearest', cmap=cmap)\n",
        "    plt.title(title)\n",
        "    plt.colorbar()\n",
        "    tick_marks = np.arange(len(classes))\n",
        "    plt.xticks(tick_marks, classes, rotation=45)\n",
        "    plt.yticks(tick_marks, classes)\n",
        "    if normalize:\n",
        "        cm = cm.astype('float') / cm.sum(axis=1)[:, np.newaxis]\n",
        "        cm = np.around(cm, decimals=2)\n",
        "        cm[np.isnan(cm)] = 0.0\n",
        "    thresh = cm.max() / 2.\n",
        "    for i, j in itertools.product(range(cm.shape[0]), range(cm.shape[1])):\n",
        "        plt.text(j, i, cm[i, j],\n",
        "                 horizontalalignment=\"center\",\n",
        "                 color=\"white\" if cm[i, j] > thresh else \"black\")\n",
        "    plt.tight_layout()\n",
        "    plt.ylabel('True label')\n",
        "    plt.xlabel('Predicted label')"
      ]
    },
    {
      "cell_type": "code",
      "execution_count": 19,
      "metadata": {
        "colab": {
          "base_uri": "https://localhost:8080/",
          "height": 824
        },
        "id": "mFywnNpJfuMK",
        "outputId": "01e5f6d6-6da7-4e6e-f050-c79fd0fcbe0b"
      },
      "outputs": [
        {
          "output_type": "stream",
          "name": "stdout",
          "text": [
            "2/2 [==============================] - 1s 122ms/step\n"
          ]
        },
        {
          "output_type": "display_data",
          "data": {
            "text/plain": [
              "<Figure size 800x800 with 2 Axes>"
            ],
            "image/png": "[encoded data removed]"
          },
          "metadata": {}
        }
      ],
      "source": [
        "labels_names = [0,1]\n",
        "\n",
        "Y_pred = model.predict(x_test)\n",
        "\n",
        "y_pred_model = np.argmax(Y_pred, axis=1)\n",
        "\n",
        "cm_model = confusion_matrix(y_test, y_pred_model)\n",
        "plot_confusion_matrix(cm_model, CATEGORIES, normalize=False, title='Karmaşıklık Matrisi (Confusion Matrix)')"
      ]
    },
    {
      "cell_type": "code",
      "execution_count": 20,
      "metadata": {
        "id": "kwIIQRwNiP5_",
        "colab": {
          "base_uri": "https://localhost:8080/"
        },
        "outputId": "59ab54f0-2c07-40e4-c691-2de0464fdec6"
      },
      "outputs": [
        {
          "output_type": "stream",
          "name": "stdout",
          "text": [
            "CNN Accuracy Değeri: 0.444444\n",
            "CNN Precision Değeri: 0.197531\n",
            "CNN Recall Değeri: 0.444444\n",
            "CNN F1 Değeri: 0.273504\n"
          ]
        }
      ],
      "source": [
        "from sklearn.utils.extmath import weighted_mode\n",
        "from sklearn.metrics import accuracy_score,f1_score,precision_score,recall_score\n",
        "\n",
        "accuracy = accuracy_score(y_test, y_pred_model)\n",
        "print('CNN Accuracy Değeri: %f' % accuracy)\n",
        "\n",
        "precision = precision_score(y_test, y_pred_model,average='weighted',zero_division=0)\n",
        "print('CNN Precision Değeri: %f' % precision)\n",
        "\n",
        "recall = recall_score(y_test, y_pred_model,average='weighted',zero_division=0)\n",
        "print('CNN Recall Değeri: %f' % recall)\n",
        "\n",
        "f1 = f1_score(y_test, y_pred_model,average='weighted',zero_division=0)\n",
        "print('CNN F1 Değeri: %f' % f1)"
      ]
    },
    {
      "cell_type": "code",
      "execution_count": 21,
      "metadata": {
        "id": "WdOm-ttjis7n",
        "colab": {
          "base_uri": "https://localhost:8080/"
        },
        "outputId": "008f8f75-44a6-407c-9113-a3e94be1f40a"
      },
      "outputs": [
        {
          "output_type": "stream",
          "name": "stdout",
          "text": [
            "              precision    recall  f1-score   support\n",
            "\n",
            "           0       0.00      0.00      0.00        20\n",
            "           1       0.44      1.00      0.62        16\n",
            "\n",
            "    accuracy                           0.44        36\n",
            "   macro avg       0.22      0.50      0.31        36\n",
            "weighted avg       0.20      0.44      0.27        36\n",
            "\n"
          ]
        }
      ],
      "source": [
        "print(classification_report(y_test,y_pred_model,zero_division=0 ))"
      ]
    },
    {
      "cell_type": "code",
      "source": [
        "from sklearn.svm import SVC\n",
        "from sklearn.model_selection import GridSearchCV\n",
        "# SVM model\n",
        "svm_model = SVC()\n",
        "\n",
        "# Parametre ızgarası\n",
        "param_grid = {\n",
        "    'C': [0.1, 1, 10],\n",
        "    'kernel': ['linear', 'rbf', 'poly'],\n",
        "    'gamma': ['scale', 0.1, 1],\n",
        "    'degree': [2, 3, 4],\n",
        "}\n",
        "num_features = x_train.shape[1] * x_train.shape[2] * x_train.shape[3]\n",
        "X_train = x_train.reshape(-1, num_features)\n",
        "# Grid Search\n",
        "grid_search_svm = GridSearchCV(estimator=svm_model, param_grid=param_grid, scoring='accuracy', cv=5,  error_score='raise')\n",
        "grid_search_svm.fit(X_train, y_train)\n",
        "\n",
        "\n",
        "# En iyi parametreleri ve en iyi skoru görüntüleme\n",
        "print(\"En iyi parametreler: \", grid_search_svm.best_params_)\n",
        "print(\"En iyi skor: \", grid_search_svm.best_score_)"
      ],
      "metadata": {
        "colab": {
          "base_uri": "https://localhost:8080/"
        },
        "id": "f_dh2nRTBWkG",
        "outputId": "415286fe-2188-485a-d40f-47bea3735021"
      },
      "execution_count": 22,
      "outputs": [
        {
          "output_type": "stream",
          "name": "stdout",
          "text": [
            "En iyi parametreler:  {'C': 1, 'degree': 2, 'gamma': 'scale', 'kernel': 'rbf'}\n",
            "En iyi skor:  1.0\n"
          ]
        }
      ]
    },
    {
      "cell_type": "markdown",
      "metadata": {
        "id": "k3GKYkIQ3lcf"
      },
      "source": [
        "\n",
        "# RESNET50V2"
      ]
    },
    {
      "cell_type": "code",
      "execution_count": 23,
      "metadata": {
        "id": "5d7QZFhX3rrU",
        "colab": {
          "base_uri": "https://localhost:8080/"
        },
        "outputId": "c10bc4d7-c6b0-46b3-d83f-90de8c7b973e"
      },
      "outputs": [
        {
          "output_type": "stream",
          "name": "stdout",
          "text": [
            "Downloading data from https://storage.googleapis.com/tensorflow/keras-applications/resnet/resnet50v2_weights_tf_dim_ordering_tf_kernels_notop.h5\n",
            "94668760/94668760 [==============================] - 4s 0us/step\n"
          ]
        }
      ],
      "source": [
        "res = tf.keras.applications.ResNet50V2(\n",
        "    input_shape=(100, 100, 3),\n",
        "    include_top = False\n",
        ")\n",
        "\n",
        "res.trainable = False"
      ]
    },
    {
      "cell_type": "code",
      "execution_count": 24,
      "metadata": {
        "id": "5R_sJl9B33Tu"
      },
      "outputs": [],
      "source": [
        "res_model = Sequential()\n",
        "\n",
        "res_model.add(res)\n",
        "res_model.add(Dropout(0.25))\n",
        "res_model.add(MaxPooling2D())\n",
        "res_model.add(Flatten())\n",
        "res_model.add(Dense(256, activation='relu'))\n",
        "res_model.add(BatchNormalization())\n",
        "res_model.add(Dropout(0.5))\n",
        "res_model.add(Dense(2, activation='softmax'))"
      ]
    },
    {
      "cell_type": "code",
      "execution_count": 25,
      "metadata": {
        "colab": {
          "base_uri": "https://localhost:8080/"
        },
        "id": "RfeVVIHu38Bc",
        "outputId": "a3367c5f-adde-4824-d98b-095208c7b667"
      },
      "outputs": [
        {
          "output_type": "stream",
          "name": "stdout",
          "text": [
            "Model: \"sequential_1\"\n",
            "_________________________________________________________________\n",
            " Layer (type)                Output Shape              Param #   \n",
            "=================================================================\n",
            " resnet50v2 (Functional)     (None, 4, 4, 2048)        23564800  \n",
            "                                                                 \n",
            " dropout_4 (Dropout)         (None, 4, 4, 2048)        0         \n",
            "                                                                 \n",
            " max_pooling2d_6 (MaxPoolin  (None, 2, 2, 2048)        0         \n",
            " g2D)                                                            \n",
            "                                                                 \n",
            " flatten_1 (Flatten)         (None, 8192)              0         \n",
            "                                                                 \n",
            " dense_3 (Dense)             (None, 256)               2097408   \n",
            "                                                                 \n",
            " batch_normalization_3 (Bat  (None, 256)               1024      \n",
            " chNormalization)                                                \n",
            "                                                                 \n",
            " dropout_5 (Dropout)         (None, 256)               0         \n",
            "                                                                 \n",
            " dense_4 (Dense)             (None, 2)                 514       \n",
            "                                                                 \n",
            "=================================================================\n",
            "Total params: 25663746 (97.90 MB)\n",
            "Trainable params: 2098434 (8.00 MB)\n",
            "Non-trainable params: 23565312 (89.89 MB)\n",
            "_________________________________________________________________\n"
          ]
        }
      ],
      "source": [
        "res_model.compile(loss='categorical_crossentropy', optimizer='adam', metrics=['accuracy'])\n",
        "res_model.summary()"
      ]
    },
    {
      "cell_type": "code",
      "execution_count": 26,
      "metadata": {
        "colab": {
          "base_uri": "https://localhost:8080/"
        },
        "id": "TspkO1xx-rOr",
        "outputId": "07b5d2a0-64b2-4693-bc0a-db37d6e74045"
      },
      "outputs": [
        {
          "output_type": "stream",
          "name": "stdout",
          "text": [
            "1/1 [==============================] - 14s 14s/step - loss: 1.5639 - accuracy: 0.3611 - val_loss: 15.3043 - val_accuracy: 0.7778\n",
            "Eğitim süresi:  14.042969226837158 saniye\n"
          ]
        }
      ],
      "source": [
        "import time\n",
        "start = time.time()\n",
        "\n",
        "hist = res_model.fit(x_train, train_yCl,\n",
        "                     batch_size=128,\n",
        "                     epochs = 1,\n",
        "                     validation_data = (x_val, valid_yCl)\n",
        "                     )\n",
        "\n",
        "print(\"Eğitim süresi: \", time.time() - start, \"saniye\")"
      ]
    },
    {
      "cell_type": "code",
      "execution_count": 27,
      "metadata": {
        "colab": {
          "base_uri": "https://localhost:8080/"
        },
        "id": "OcSGZWLW4G9m",
        "outputId": "67e1af78-c173-4256-d990-cf0e29293495"
      },
      "outputs": [
        {
          "output_type": "stream",
          "name": "stdout",
          "text": [
            "3/3 [==============================] - 2s 656ms/step - loss: 6.9251 - accuracy: 0.7917\n",
            "Train Accuracy:  0.7916666865348816\n",
            "2/2 [==============================] - 1s 156ms/step - loss: 11.6191 - accuracy: 0.7222\n",
            "Test Accuracy:  0.7222222089767456\n",
            "1/1 [==============================] - 0s 331ms/step - loss: 15.3043 - accuracy: 0.7778\n",
            "Validation Accuracy:  0.7777777910232544\n"
          ]
        }
      ],
      "source": [
        "score_train_RESNET = res_model.evaluate(x_train, train_yCl)\n",
        "print(\"Train Accuracy: \", score_train_RESNET[1])\n",
        "\n",
        "score_test_RESNET = res_model.evaluate(x_test, test_yCl)\n",
        "print(\"Test Accuracy: \", score_test_RESNET[1])\n",
        "\n",
        "score_val_RESNET = res_model.evaluate(x_val, valid_yCl)\n",
        "print(\"Validation Accuracy: \", score_val_RESNET[1])"
      ]
    },
    {
      "cell_type": "code",
      "source": [
        "from sklearn.metrics import confusion_matrix, classification_report\n",
        "import itertools\n",
        "def plot_confusion_matrix(cm, classes, normalize=True, title='Confusion matrix', cmap=plt.cm.Blues):\n",
        "    plt.figure(figsize=(10, 10))\n",
        "    plt.imshow(cm, interpolation='nearest', cmap=cmap)\n",
        "    plt.title(title)\n",
        "    plt.colorbar()\n",
        "    tick_marks = np.arange(len(classes))\n",
        "    plt.xticks(tick_marks, classes, rotation=45)\n",
        "    plt.yticks(tick_marks, classes)\n",
        "    if normalize:\n",
        "        cm = cm.astype('float') / cm.sum(axis=1)[:, np.newaxis]\n",
        "        cm = np.around(cm, decimals=2)\n",
        "        cm[np.isnan(cm)] = 0.0\n",
        "    thresh = cm.max() / 2.\n",
        "    for i, j in itertools.product(range(cm.shape[0]), range(cm.shape[1])):\n",
        "        plt.text(j, i, cm[i, j],\n",
        "                 horizontalalignment=\"center\",\n",
        "                 color=\"white\" if cm[i, j] > thresh else \"black\")\n",
        "    plt.tight_layout()\n",
        "    plt.ylabel('True label')\n",
        "    plt.xlabel('Predicted label')"
      ],
      "metadata": {
        "id": "Bie_REMb9KO2"
      },
      "execution_count": 28,
      "outputs": []
    },
    {
      "cell_type": "code",
      "source": [
        "\n",
        "labels_names = [0,1]\n",
        "\n",
        "Y_pred = res_model.predict(x_test)\n",
        "\n",
        "y_pred_resnet = np.argmax(Y_pred, axis=1)\n",
        "\n",
        "cm_RESNET = confusion_matrix(y_test, y_pred_resnet)\n",
        "plot_confusion_matrix(cm_RESNET, CATEGORIES, normalize=False, title='Karmaşıklık Matrisi (Confusion Matrix)')"
      ],
      "metadata": {
        "colab": {
          "base_uri": "https://localhost:8080/",
          "height": 1000
        },
        "id": "VPVlrWx-9OG5",
        "outputId": "ba95fb78-8746-4c94-f03f-6cf765b32cbd"
      },
      "execution_count": 29,
      "outputs": [
        {
          "output_type": "stream",
          "name": "stdout",
          "text": [
            "2/2 [==============================] - 3s 265ms/step\n"
          ]
        },
        {
          "output_type": "display_data",
          "data": {
            "text/plain": [
              "<Figure size 1000x1000 with 2 Axes>"
            ],
            "image/png": "[encoded data removed]"
          },
          "metadata": {}
        }
      ]
    },
    {
      "cell_type": "code",
      "source": [
        "from sklearn.utils.extmath import weighted_mode\n",
        "from sklearn.metrics import accuracy_score,f1_score,precision_score,recall_score\n",
        "\n",
        "accuracy = accuracy_score(y_test, y_pred_resnet)\n",
        "print(' RESNET50 Accuracy Değeri: %f' % accuracy)\n",
        "\n",
        "precision = precision_score(y_test, y_pred_resnet,average='weighted',zero_division=0)\n",
        "print('RESNET50 Precision Değeri: %f' % precision)\n",
        "\n",
        "recall = recall_score(y_test, y_pred_resnet,average='weighted',zero_division=0)\n",
        "print('RESNET50 Recall Değeri: %f' % recall)\n",
        "\n",
        "f1 = f1_score(y_test, y_pred_resnet,average='weighted',zero_division=0)\n",
        "print('RESNET50 F1 Değeri: %f' % f1)"
      ],
      "metadata": {
        "colab": {
          "base_uri": "https://localhost:8080/"
        },
        "id": "iQUTM9g49ThR",
        "outputId": "0265d25d-4f7e-47c5-ef5b-b99606547e9e"
      },
      "execution_count": 30,
      "outputs": [
        {
          "output_type": "stream",
          "name": "stdout",
          "text": [
            " RESNET50 Accuracy Değeri: 0.722222\n",
            "RESNET50 Precision Değeri: 0.814815\n",
            "RESNET50 Recall Değeri: 0.722222\n",
            "RESNET50 F1 Değeri: 0.686869\n"
          ]
        }
      ]
    },
    {
      "cell_type": "code",
      "source": [
        "print(classification_report(y_test,y_pred_resnet,zero_division=0 ))"
      ],
      "metadata": {
        "colab": {
          "base_uri": "https://localhost:8080/"
        },
        "id": "0ZDbKmB292Sd",
        "outputId": "106b276e-e4cf-4ffd-8931-58ae15d50f12"
      },
      "execution_count": 31,
      "outputs": [
        {
          "output_type": "stream",
          "name": "stdout",
          "text": [
            "              precision    recall  f1-score   support\n",
            "\n",
            "           0       0.67      1.00      0.80        20\n",
            "           1       1.00      0.38      0.55        16\n",
            "\n",
            "    accuracy                           0.72        36\n",
            "   macro avg       0.83      0.69      0.67        36\n",
            "weighted avg       0.81      0.72      0.69        36\n",
            "\n"
          ]
        }
      ]
    },
    {
      "cell_type": "markdown",
      "source": [
        "# INCEPTIONv3"
      ],
      "metadata": {
        "id": "6zffzn_R_bDV"
      }
    },
    {
      "cell_type": "code",
      "source": [
        "inceptionv3 = tf.keras.applications.InceptionV3(\n",
        "        input_shape=(100, 100, 3),\n",
        "        include_top = False,\n",
        "        weights=\"imagenet\"\n",
        ")\n",
        "\n",
        "inceptionv3.trainable = False"
      ],
      "metadata": {
        "id": "7c4AKsdJ-Kve",
        "colab": {
          "base_uri": "https://localhost:8080/"
        },
        "outputId": "44c486c0-9bf8-473e-eefc-2f9f0ba91a7b"
      },
      "execution_count": 32,
      "outputs": [
        {
          "output_type": "stream",
          "name": "stdout",
          "text": [
            "Downloading data from https://storage.googleapis.com/tensorflow/keras-applications/inception_v3/inception_v3_weights_tf_dim_ordering_tf_kernels_notop.h5\n",
            "87910968/87910968 [==============================] - 4s 0us/step\n"
          ]
        }
      ]
    },
    {
      "cell_type": "code",
      "source": [
        "inceptionv3_model = Sequential()\n",
        "\n",
        "inceptionv3_model.add(inceptionv3)\n",
        "inceptionv3_model.add(Dropout(0.25))\n",
        "#inceptionv3_model.add(MaxPooling2D())\n",
        "inceptionv3_model.add(Flatten())\n",
        "inceptionv3_model.add(Dense(256, activation='relu'))\n",
        "inceptionv3_model.add(BatchNormalization())\n",
        "inceptionv3_model.add(Dropout(0.5))\n",
        "inceptionv3_model.add(Dense(2, activation='softmax'))"
      ],
      "metadata": {
        "id": "zSSSJNhd_gcK"
      },
      "execution_count": 33,
      "outputs": []
    },
    {
      "cell_type": "code",
      "source": [
        "inceptionv3_model.compile(loss='categorical_crossentropy', optimizer='adam', metrics=['accuracy'])"
      ],
      "metadata": {
        "id": "jbBy9hDx_k9y"
      },
      "execution_count": 34,
      "outputs": []
    },
    {
      "cell_type": "code",
      "source": [
        "import time\n",
        "start = time.time()\n",
        "\n",
        "hist = inceptionv3_model.fit(x_train, train_yCl,\n",
        "                     batch_size=128,\n",
        "                     #epochs = 50,\n",
        "                             epochs = 1,\n",
        "                     validation_data = (x_val, valid_yCl)\n",
        "                     )\n",
        "\n",
        "print(\"Eğitim süresi: \", time.time() - start, \"saniye\")"
      ],
      "metadata": {
        "id": "8wjifz8coTAj",
        "colab": {
          "base_uri": "https://localhost:8080/"
        },
        "outputId": "2bebfa43-7580-4e9e-aa87-979b328932b0"
      },
      "execution_count": 35,
      "outputs": [
        {
          "output_type": "stream",
          "name": "stdout",
          "text": [
            "1/1 [==============================] - 10s 10s/step - loss: 1.2014 - accuracy: 0.5278 - val_loss: 3.0499 - val_accuracy: 0.7778\n",
            "Eğitim süresi:  12.146796941757202 saniye\n"
          ]
        }
      ]
    },
    {
      "cell_type": "code",
      "source": [
        "score_train_INCEPV3 = inceptionv3_model.evaluate(x_train, train_yCl)\n",
        "print(\"Train Accuracy: \", score_train_INCEPV3[1])\n",
        "\n",
        "score_test_INCEPV3 = inceptionv3_model.evaluate(x_test, test_yCl)\n",
        "print(\"Test Accuracy: \", score_test_INCEPV3[1])\n",
        "\n",
        "score_val_INCEPV3 = inceptionv3_model.evaluate(x_val, valid_yCl)\n",
        "print(\"Validation Accuracy: \", score_val_INCEPV3[1])"
      ],
      "metadata": {
        "colab": {
          "base_uri": "https://localhost:8080/"
        },
        "id": "xYFmFp_J_o6e",
        "outputId": "72b45894-3e8e-4122-e2f1-a36b07b2ba6e"
      },
      "execution_count": 36,
      "outputs": [
        {
          "output_type": "stream",
          "name": "stdout",
          "text": [
            "3/3 [==============================] - 1s 295ms/step - loss: 0.1616 - accuracy: 0.9722\n",
            "Train Accuracy:  0.9722222089767456\n",
            "2/2 [==============================] - 1s 80ms/step - loss: 1.8428 - accuracy: 0.8889\n",
            "Test Accuracy:  0.8888888955116272\n",
            "1/1 [==============================] - 0s 171ms/step - loss: 3.0499 - accuracy: 0.7778\n",
            "Validation Accuracy:  0.7777777910232544\n"
          ]
        }
      ]
    },
    {
      "cell_type": "code",
      "source": [
        "labels_names = [0,1]\n",
        "\n",
        "Y_pred = inceptionv3_model.predict(x_test)\n",
        "\n",
        "y_pred_INCEPV3 = np.argmax(Y_pred, axis=1)\n",
        "\n",
        "cm_INCEPV3 = confusion_matrix(y_test, y_pred_INCEPV3)\n",
        "plot_confusion_matrix(cm_INCEPV3, CATEGORIES, normalize=False, title='Karmaşıklık Matrisi (Confusion Matrix)')"
      ],
      "metadata": {
        "colab": {
          "base_uri": "https://localhost:8080/",
          "height": 1000
        },
        "id": "pOArttHm_q7t",
        "outputId": "83f54f08-8642-485d-d623-df7386ae1e4d"
      },
      "execution_count": 37,
      "outputs": [
        {
          "output_type": "stream",
          "name": "stdout",
          "text": [
            "2/2 [==============================] - 3s 221ms/step\n"
          ]
        },
        {
          "output_type": "display_data",
          "data": {
            "text/plain": [
              "<Figure size 1000x1000 with 2 Axes>"
            ],
            "image/png": "[encoded data removed]"
          },
          "metadata": {}
        }
      ]
    },
    {
      "cell_type": "code",
      "source": [
        "from sklearn.utils.extmath import weighted_mode\n",
        "from sklearn.metrics import accuracy_score,f1_score,precision_score,recall_score\n",
        "\n",
        "accuracy = accuracy_score(y_test, y_pred_INCEPV3)\n",
        "print('INCEPTIONv3 Accuracy Değeri: %f' % accuracy)\n",
        "\n",
        "precision = precision_score(y_test, y_pred_INCEPV3,average='weighted',zero_division=0)\n",
        "print('INCEPTIONv3 Precision Değeri: %f' % precision)\n",
        "\n",
        "recall = recall_score(y_test, y_pred_INCEPV3,average='weighted',zero_division=0)\n",
        "print('INCEPTIONv3 Recall Değeri: %f' % recall)\n",
        "\n",
        "f1 = f1_score(y_test, y_pred_INCEPV3,average='weighted',zero_division=0)\n",
        "print('INCEPTIONv3 F1 Değeri: %f' % f1)"
      ],
      "metadata": {
        "colab": {
          "base_uri": "https://localhost:8080/"
        },
        "id": "hppo_PzS_wyh",
        "outputId": "4f161600-0ff6-4625-caef-ac00d5bef8f8"
      },
      "execution_count": 38,
      "outputs": [
        {
          "output_type": "stream",
          "name": "stdout",
          "text": [
            "INCEPTIONv3 Accuracy Değeri: 0.888889\n",
            "INCEPTIONv3 Precision Değeri: 0.895062\n",
            "INCEPTIONv3 Recall Değeri: 0.888889\n",
            "INCEPTIONv3 F1 Değeri: 0.889233\n"
          ]
        }
      ]
    },
    {
      "cell_type": "code",
      "source": [
        "print(classification_report(y_test,y_pred_INCEPV3 ,zero_division=0))"
      ],
      "metadata": {
        "colab": {
          "base_uri": "https://localhost:8080/"
        },
        "id": "sXX5PxXC_zIx",
        "outputId": "571fb11c-d0a1-4eb1-ecae-7bf6ed921099"
      },
      "execution_count": 39,
      "outputs": [
        {
          "output_type": "stream",
          "name": "stdout",
          "text": [
            "              precision    recall  f1-score   support\n",
            "\n",
            "           0       0.94      0.85      0.89        20\n",
            "           1       0.83      0.94      0.88        16\n",
            "\n",
            "    accuracy                           0.89        36\n",
            "   macro avg       0.89      0.89      0.89        36\n",
            "weighted avg       0.90      0.89      0.89        36\n",
            "\n"
          ]
        }
      ]
    },
    {
      "cell_type": "markdown",
      "source": [
        "# Yapay Sinir Ağları"
      ],
      "metadata": {
        "id": "fka1o_27k_JN"
      }
    },
    {
      "cell_type": "code",
      "source": [
        "from tensorflow.keras import layers"
      ],
      "metadata": {
        "id": "KprPuWinvCXe"
      },
      "execution_count": 40,
      "outputs": []
    },
    {
      "cell_type": "code",
      "source": [
        "from keras.layers import Conv2D, MaxPooling2D, Flatten, Dense\n",
        "ann_model = Sequential()\n",
        "ann_model.add(Flatten(input_shape=(100, 100, 3)))\n",
        "ann_model.add(layers.Dense(16, activation=\"relu\"))\n",
        "ann_model.add(layers.Dense(8, activation=\"relu\"))\n",
        "ann_model.add(BatchNormalization())\n",
        "ann_model.add(Dense(2))\n",
        "ann_model.add(Activation('softmax'))\n",
        "ann_model.summary()\n",
        "ann_model.compile(optimizer='Adam',loss=\"binary_crossentropy\",metrics=[\"accuracy\"])"
      ],
      "metadata": {
        "id": "H-fDFaGNlDK1",
        "colab": {
          "base_uri": "https://localhost:8080/"
        },
        "outputId": "9973130e-9530-4165-9c90-c071742ad936"
      },
      "execution_count": 41,
      "outputs": [
        {
          "output_type": "stream",
          "name": "stdout",
          "text": [
            "Model: \"sequential_3\"\n",
            "_________________________________________________________________\n",
            " Layer (type)                Output Shape              Param #   \n",
            "=================================================================\n",
            " flatten_3 (Flatten)         (None, 30000)             0         \n",
            "                                                                 \n",
            " dense_7 (Dense)             (None, 16)                480016    \n",
            "                                                                 \n",
            " dense_8 (Dense)             (None, 8)                 136       \n",
            "                                                                 \n",
            " batch_normalization_99 (Ba  (None, 8)                 32        \n",
            " tchNormalization)                                               \n",
            "                                                                 \n",
            " dense_9 (Dense)             (None, 2)                 18        \n",
            "                                                                 \n",
            " activation_103 (Activation  (None, 2)                 0         \n",
            " )                                                               \n",
            "                                                                 \n",
            "=================================================================\n",
            "Total params: 480202 (1.83 MB)\n",
            "Trainable params: 480186 (1.83 MB)\n",
            "Non-trainable params: 16 (64.00 Byte)\n",
            "_________________________________________________________________\n"
          ]
        }
      ]
    },
    {
      "cell_type": "code",
      "source": [
        "from tensorflow import keras\n",
        "\n",
        "callback_list = [\n",
        "    keras.callbacks.ModelCheckpoint(\n",
        "        filepath='model.h5',\n",
        "        monitor = 'val_accuracy', save_best_only=True, verbose=3\n",
        "    ),\n",
        "    keras.callbacks.EarlyStopping(monitor='val_loss', patience=10, verbose=3)\n",
        "]"
      ],
      "metadata": {
        "id": "pxNHSz68muwr"
      },
      "execution_count": 42,
      "outputs": []
    },
    {
      "cell_type": "code",
      "source": [
        "history = ann_model.fit(x_train, train_yCl,\n",
        "                    batch_size=128,\n",
        "                    validation_data = (x_val, valid_yCl),\n",
        "                    callbacks = callback_list,\n",
        "                    epochs = 20\n",
        "                    )\n"
      ],
      "metadata": {
        "colab": {
          "base_uri": "https://localhost:8080/"
        },
        "id": "UsHz4eOPm0S-",
        "outputId": "6e8e6448-347f-4ac6-d56f-e1960c417e4d"
      },
      "execution_count": 43,
      "outputs": [
        {
          "output_type": "stream",
          "name": "stdout",
          "text": [
            "Epoch 1/20\n",
            "1/1 [==============================] - ETA: 0s - loss: 0.5706 - accuracy: 0.7639\n",
            "Epoch 1: val_accuracy improved from -inf to 0.66667, saving model to model.h5\n",
            "1/1 [==============================] - 5s 5s/step - loss: 0.5706 - accuracy: 0.7639 - val_loss: 1088.3629 - val_accuracy: 0.6667\n"
          ]
        },
        {
          "output_type": "stream",
          "name": "stderr",
          "text": [
            "/usr/local/lib/python3.10/dist-packages/keras/src/engine/training.py:3103: UserWarning: You are saving your model as an HDF5 file via `model.save()`. This file format is considered legacy. We recommend using instead the native Keras format, e.g. `model.save('my_model.keras')`.\n",
            "  saving_api.save_model(\n"
          ]
        },
        {
          "output_type": "stream",
          "name": "stdout",
          "text": [
            "Epoch 2/20\n",
            "1/1 [==============================] - ETA: 0s - loss: 0.6170 - accuracy: 0.5972\n",
            "Epoch 2: val_accuracy did not improve from 0.66667\n",
            "1/1 [==============================] - 0s 97ms/step - loss: 0.6170 - accuracy: 0.5972 - val_loss: 71.3923 - val_accuracy: 0.6667\n",
            "Epoch 3/20\n",
            "1/1 [==============================] - ETA: 0s - loss: 0.5903 - accuracy: 0.7361\n",
            "Epoch 3: val_accuracy did not improve from 0.66667\n",
            "1/1 [==============================] - 0s 132ms/step - loss: 0.5903 - accuracy: 0.7361 - val_loss: 26.6852 - val_accuracy: 0.6667\n",
            "Epoch 4/20\n",
            "1/1 [==============================] - ETA: 0s - loss: 0.5993 - accuracy: 0.7222\n",
            "Epoch 4: val_accuracy did not improve from 0.66667\n",
            "1/1 [==============================] - 0s 175ms/step - loss: 0.5993 - accuracy: 0.7222 - val_loss: 20.4202 - val_accuracy: 0.6667\n",
            "Epoch 5/20\n",
            "1/1 [==============================] - ETA: 0s - loss: 0.5890 - accuracy: 0.7500\n",
            "Epoch 5: val_accuracy did not improve from 0.66667\n",
            "1/1 [==============================] - 0s 103ms/step - loss: 0.5890 - accuracy: 0.7500 - val_loss: 16.9292 - val_accuracy: 0.6667\n",
            "Epoch 6/20\n",
            "1/1 [==============================] - ETA: 0s - loss: 0.5747 - accuracy: 0.7778\n",
            "Epoch 6: val_accuracy did not improve from 0.66667\n",
            "1/1 [==============================] - 0s 113ms/step - loss: 0.5747 - accuracy: 0.7778 - val_loss: 14.5945 - val_accuracy: 0.6667\n",
            "Epoch 7/20\n",
            "1/1 [==============================] - ETA: 0s - loss: 0.5600 - accuracy: 0.8056\n",
            "Epoch 7: val_accuracy did not improve from 0.66667\n",
            "1/1 [==============================] - 0s 113ms/step - loss: 0.5600 - accuracy: 0.8056 - val_loss: 12.8796 - val_accuracy: 0.6667\n",
            "Epoch 8/20\n",
            "1/1 [==============================] - ETA: 0s - loss: 0.5459 - accuracy: 0.8056\n",
            "Epoch 8: val_accuracy did not improve from 0.66667\n",
            "1/1 [==============================] - 0s 99ms/step - loss: 0.5459 - accuracy: 0.8056 - val_loss: 11.5468 - val_accuracy: 0.6667\n",
            "Epoch 9/20\n",
            "1/1 [==============================] - ETA: 0s - loss: 0.5329 - accuracy: 0.8056\n",
            "Epoch 9: val_accuracy did not improve from 0.66667\n",
            "1/1 [==============================] - 0s 108ms/step - loss: 0.5329 - accuracy: 0.8056 - val_loss: 10.4662 - val_accuracy: 0.6667\n",
            "Epoch 10/20\n",
            "1/1 [==============================] - ETA: 0s - loss: 0.5209 - accuracy: 0.8194\n",
            "Epoch 10: val_accuracy did not improve from 0.66667\n",
            "1/1 [==============================] - 0s 89ms/step - loss: 0.5209 - accuracy: 0.8194 - val_loss: 9.5649 - val_accuracy: 0.6667\n",
            "Epoch 11/20\n",
            "1/1 [==============================] - ETA: 0s - loss: 0.5098 - accuracy: 0.8472\n",
            "Epoch 11: val_accuracy did not improve from 0.66667\n",
            "1/1 [==============================] - 0s 95ms/step - loss: 0.5098 - accuracy: 0.8472 - val_loss: 8.7892 - val_accuracy: 0.6667\n",
            "Epoch 12/20\n",
            "1/1 [==============================] - ETA: 0s - loss: 0.4993 - accuracy: 0.8611\n",
            "Epoch 12: val_accuracy did not improve from 0.66667\n",
            "1/1 [==============================] - 0s 182ms/step - loss: 0.4993 - accuracy: 0.8611 - val_loss: 8.1135 - val_accuracy: 0.6667\n",
            "Epoch 13/20\n",
            "1/1 [==============================] - ETA: 0s - loss: 0.4893 - accuracy: 0.8889\n",
            "Epoch 13: val_accuracy did not improve from 0.66667\n",
            "1/1 [==============================] - 0s 138ms/step - loss: 0.4893 - accuracy: 0.8889 - val_loss: 7.5191 - val_accuracy: 0.6667\n",
            "Epoch 14/20\n",
            "1/1 [==============================] - ETA: 0s - loss: 0.4796 - accuracy: 0.8889\n",
            "Epoch 14: val_accuracy did not improve from 0.66667\n",
            "1/1 [==============================] - 0s 82ms/step - loss: 0.4796 - accuracy: 0.8889 - val_loss: 6.9935 - val_accuracy: 0.6667\n",
            "Epoch 15/20\n",
            "1/1 [==============================] - ETA: 0s - loss: 0.4704 - accuracy: 0.9028\n",
            "Epoch 15: val_accuracy did not improve from 0.66667\n",
            "1/1 [==============================] - 0s 130ms/step - loss: 0.4704 - accuracy: 0.9028 - val_loss: 6.5291 - val_accuracy: 0.6667\n",
            "Epoch 16/20\n",
            "1/1 [==============================] - ETA: 0s - loss: 0.4617 - accuracy: 0.9028\n",
            "Epoch 16: val_accuracy did not improve from 0.66667\n",
            "1/1 [==============================] - 0s 119ms/step - loss: 0.4617 - accuracy: 0.9028 - val_loss: 6.1171 - val_accuracy: 0.6667\n",
            "Epoch 17/20\n",
            "1/1 [==============================] - ETA: 0s - loss: 0.4534 - accuracy: 0.9028\n",
            "Epoch 17: val_accuracy did not improve from 0.66667\n",
            "1/1 [==============================] - 0s 96ms/step - loss: 0.4534 - accuracy: 0.9028 - val_loss: 5.7491 - val_accuracy: 0.6667\n",
            "Epoch 18/20\n",
            "1/1 [==============================] - ETA: 0s - loss: 0.4453 - accuracy: 0.9167\n",
            "Epoch 18: val_accuracy did not improve from 0.66667\n",
            "1/1 [==============================] - 0s 109ms/step - loss: 0.4453 - accuracy: 0.9167 - val_loss: 5.4181 - val_accuracy: 0.6667\n",
            "Epoch 19/20\n",
            "1/1 [==============================] - ETA: 0s - loss: 0.4374 - accuracy: 0.9167\n",
            "Epoch 19: val_accuracy did not improve from 0.66667\n",
            "1/1 [==============================] - 0s 125ms/step - loss: 0.4374 - accuracy: 0.9167 - val_loss: 5.1188 - val_accuracy: 0.6667\n",
            "Epoch 20/20\n",
            "1/1 [==============================] - ETA: 0s - loss: 0.4298 - accuracy: 0.9167\n",
            "Epoch 20: val_accuracy did not improve from 0.66667\n",
            "1/1 [==============================] - 0s 86ms/step - loss: 0.4298 - accuracy: 0.9167 - val_loss: 4.8471 - val_accuracy: 0.6667\n"
          ]
        }
      ]
    },
    {
      "cell_type": "code",
      "source": [
        "score_valid_ann = ann_model.evaluate(x_val, valid_yCl)\n",
        "print(\"Validation Accuracy: \", score_valid[1])\n",
        "\n",
        "score_test_ann = ann_model.evaluate(x_test, test_yCl)\n",
        "print(\"Validation Accuracy: \", score_test[1])\n",
        "\n",
        "score_train_ann = ann_model.evaluate(x_train, train_yCl)\n",
        "print(\"Validation Accuracy: \", score_train[1])"
      ],
      "metadata": {
        "colab": {
          "base_uri": "https://localhost:8080/"
        },
        "id": "i62aRz50yz6R",
        "outputId": "f59e14f7-260e-4ee3-c80a-2fa58547b614"
      },
      "execution_count": 44,
      "outputs": [
        {
          "output_type": "stream",
          "name": "stdout",
          "text": [
            "1/1 [==============================] - 0s 27ms/step - loss: 4.8471 - accuracy: 0.6667\n",
            "Validation Accuracy:  0.3333333432674408\n",
            "2/2 [==============================] - 0s 8ms/step - loss: 6.5687 - accuracy: 0.5556\n",
            "Validation Accuracy:  0.4444444477558136\n",
            "3/3 [==============================] - 0s 6ms/step - loss: 7.7032 - accuracy: 0.5139\n",
            "Validation Accuracy:  0.4861111044883728\n"
          ]
        }
      ]
    },
    {
      "cell_type": "code",
      "source": [
        "labels_names = [0,1]\n",
        "\n",
        "Y_pred = ann_model.predict(x_test)\n",
        "\n",
        "y_pred_ann = np.argmax(Y_pred, axis=1)\n",
        "\n",
        "cm_ann = confusion_matrix(y_test, y_pred_ann)\n",
        "plot_confusion_matrix(cm_ann, CATEGORIES, normalize=False, title='Karmaşıklık Matrisi (Confusion Matrix)')"
      ],
      "metadata": {
        "colab": {
          "base_uri": "https://localhost:8080/",
          "height": 1000
        },
        "id": "la6WqVhq8GfY",
        "outputId": "d4d10fdb-32d8-4531-fff6-9c1bdd8ab0e9"
      },
      "execution_count": 45,
      "outputs": [
        {
          "output_type": "stream",
          "name": "stdout",
          "text": [
            "2/2 [==============================] - 0s 8ms/step\n"
          ]
        },
        {
          "output_type": "display_data",
          "data": {
            "text/plain": [
              "<Figure size 1000x1000 with 2 Axes>"
            ],
            "image/png": "[encoded data removed]"
          },
          "metadata": {}
        }
      ]
    },
    {
      "cell_type": "code",
      "source": [
        "from sklearn.utils.extmath import weighted_mode\n",
        "from sklearn.metrics import accuracy_score,f1_score,precision_score,recall_score\n",
        "\n",
        "accuracy = accuracy_score(y_test, y_pred_ann)\n",
        "print('INCEPTIONv3 Accuracy Değeri: %f' % accuracy)\n",
        "\n",
        "precision = precision_score(y_test, y_pred_ann,average='weighted',zero_division=0)\n",
        "print('INCEPTIONv3 Precision Değeri: %f' % precision)\n",
        "\n",
        "recall = recall_score(y_test, y_pred_ann,average='weighted',zero_division=0)\n",
        "print('INCEPTIONv3 Recall Değeri: %f' % recall)\n",
        "\n",
        "f1 = f1_score(y_test, y_pred_ann,average='weighted',zero_division=0)\n",
        "print('INCEPTIONv3 F1 Değeri: %f' % f1)\n",
        "print(\"------------------------------------------------------------------\")\n",
        "\n",
        "print(classification_report(y_test,y_pred_ann ,zero_division=0))\n",
        "\n",
        "print(\"------------------------------------------------------------------\")\n"
      ],
      "metadata": {
        "colab": {
          "base_uri": "https://localhost:8080/"
        },
        "id": "jTcITozezeXe",
        "outputId": "c1e08301-bde4-49f4-9f22-35c605046ed9"
      },
      "execution_count": 46,
      "outputs": [
        {
          "output_type": "stream",
          "name": "stdout",
          "text": [
            "INCEPTIONv3 Accuracy Değeri: 0.555556\n",
            "INCEPTIONv3 Precision Değeri: 0.308642\n",
            "INCEPTIONv3 Recall Değeri: 0.555556\n",
            "INCEPTIONv3 F1 Değeri: 0.396825\n",
            "------------------------------------------------------------------\n",
            "              precision    recall  f1-score   support\n",
            "\n",
            "           0       0.56      1.00      0.71        20\n",
            "           1       0.00      0.00      0.00        16\n",
            "\n",
            "    accuracy                           0.56        36\n",
            "   macro avg       0.28      0.50      0.36        36\n",
            "weighted avg       0.31      0.56      0.40        36\n",
            "\n",
            "------------------------------------------------------------------\n"
          ]
        }
      ]
    }
  ],
  "metadata": {
    "colab": {
      "provenance": []
    },
    "kernelspec": {
      "display_name": "Python 3",
      "name": "python3"
    },
    "language_info": {
      "name": "python"
    }
  },
  "nbformat": 4,
  "nbformat_minor": 0
}